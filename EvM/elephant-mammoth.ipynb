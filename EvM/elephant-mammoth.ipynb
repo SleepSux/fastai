{
 "cells": [
  {
   "cell_type": "code",
   "execution_count": 1,
   "metadata": {
    "hide_input": false,
    "nbpresent": {
     "id": "bab2488d-40d4-4afe-982c-ec3007d69f0b"
    }
   },
   "outputs": [],
   "source": [
    "from fastai import *\n",
    "from fastai.vision import *"
   ]
  },
  {
   "cell_type": "code",
   "execution_count": 2,
   "metadata": {
    "nbpresent": {
     "id": "b2ca179d-51df-48fd-b660-5ad70fd8e78a"
    }
   },
   "outputs": [
    {
     "data": {
      "text/html": [
       "\n",
       "    <div>\n",
       "        <style>\n",
       "        \t/* Turns off some styling */\n",
       "        \tprogress {\n",
       "\n",
       "            \t/* gets rid of default border in Firefox and Opera. */\n",
       "            \tborder: none;\n",
       "\n",
       "            \t/* Needs to be in here for Safari polyfill so background images work as expected. */\n",
       "            \tbackground-size: auto;\n",
       "            }\n",
       "\n",
       "            .progress-bar-interrupted, .progress-bar-interrupted::-webkit-progress-bar {\n",
       "                background: #F44336;\n",
       "            }\n",
       "        </style>\n",
       "      <progress value='100' class='' max='100', style='width:300px; height:20px; vertical-align: middle;'></progress>\n",
       "      100.00% [100/100 01:10<00:00]\n",
       "    </div>\n",
       "    "
      ],
      "text/plain": [
       "<IPython.core.display.HTML object>"
      ]
     },
     "metadata": {},
     "output_type": "display_data"
    },
    {
     "name": "stdout",
     "output_type": "stream",
     "text": [
      "Error http://www.krugerpark.co.za/images/1-kruger-park-elephant-calf-duplessis-590.jpg 'content-length'\n",
      "Error https://www.ctvnews.ca/polopoly_fs/1.3819957.1519686313!/httpImage/image.jpg_gen/derivatives/landscape_620/image.jpg 'content-length'\n",
      "Error https://www.washingtonpost.com/pbox.php?url=https://palomaimages.washingtonpost.com/pr2/727762df93b847e36d8ca69bb6b21561-3388-2159-70-8-20180206T115608Z_255949732_RC14F5338DC0_RTRMADP_3_INDIADAILYLIFE.jpg&w=1484&op=resize&opt=1&filter=antialias&t=20170517 'content-length'\n",
      "Error https://lookaside.fbsbx.com/lookaside/crawler/media/?media_id=604892009556291 'content-length'\n"
     ]
    },
    {
     "data": {
      "text/html": [
       "\n",
       "    <div>\n",
       "        <style>\n",
       "        \t/* Turns off some styling */\n",
       "        \tprogress {\n",
       "\n",
       "            \t/* gets rid of default border in Firefox and Opera. */\n",
       "            \tborder: none;\n",
       "\n",
       "            \t/* Needs to be in here for Safari polyfill so background images work as expected. */\n",
       "            \tbackground-size: auto;\n",
       "            }\n",
       "\n",
       "            .progress-bar-interrupted, .progress-bar-interrupted::-webkit-progress-bar {\n",
       "                background: #F44336;\n",
       "            }\n",
       "        </style>\n",
       "      <progress value='100' class='' max='100', style='width:300px; height:20px; vertical-align: middle;'></progress>\n",
       "      100.00% [100/100 00:26<00:00]\n",
       "    </div>\n",
       "    "
      ],
      "text/plain": [
       "<IPython.core.display.HTML object>"
      ]
     },
     "metadata": {},
     "output_type": "display_data"
    },
    {
     "name": "stdout",
     "output_type": "stream",
     "text": [
      "Error http://siberiantimes.com/upload/information_system_38/2/9/4/item_2942/information_items_2942.jpg 'content-length'\n",
      "Error https://3c1703fe8d.site.internapcdn.net/newman/csz/news/800/2017/woollymammot.jpg 'content-length'\n",
      "Error https://openclipart.org/download/282160/Mammoth-nobg-white.svg 'content-length'\n"
     ]
    }
   ],
   "source": [
    "folderNames = []\n",
    "\n",
    "path = 'data/urls/'\n",
    " \n",
    "files = os.listdir(path)\n",
    "for name in files:\n",
    "    folderNames.append(os.path.splitext(name)[0])\n",
    "\n",
    "pathI = Path('data/images')\n",
    "\n",
    "for title in folderNames:\n",
    "    dest = pathI/title\n",
    "    filename = title + '.txt'\n",
    "    dest.mkdir(parents=True, exist_ok=True)\n",
    "    download_images('data/urls/' + filename, dest, max_pics=200,max_workers=0)\n",
    "    "
   ]
  },
  {
   "cell_type": "code",
   "execution_count": 7,
   "metadata": {
    "nbpresent": {
     "id": "0e88d82e-509e-49e4-9611-bd038798f42a"
    }
   },
   "outputs": [
    {
     "name": "stdout",
     "output_type": "stream",
     "text": [
      "elephants\n"
     ]
    },
    {
     "data": {
      "text/html": [
       "\n",
       "    <div>\n",
       "        <style>\n",
       "        \t/* Turns off some styling */\n",
       "        \tprogress {\n",
       "\n",
       "            \t/* gets rid of default border in Firefox and Opera. */\n",
       "            \tborder: none;\n",
       "\n",
       "            \t/* Needs to be in here for Safari polyfill so background images work as expected. */\n",
       "            \tbackground-size: auto;\n",
       "            }\n",
       "\n",
       "            .progress-bar-interrupted, .progress-bar-interrupted::-webkit-progress-bar {\n",
       "                background: #F44336;\n",
       "            }\n",
       "        </style>\n",
       "      <progress value='96' class='' max='96', style='width:300px; height:20px; vertical-align: middle;'></progress>\n",
       "      100.00% [96/96 00:00<00:00]\n",
       "    </div>\n",
       "    "
      ],
      "text/plain": [
       "<IPython.core.display.HTML object>"
      ]
     },
     "metadata": {},
     "output_type": "display_data"
    },
    {
     "name": "stdout",
     "output_type": "stream",
     "text": [
      "cannot identify image file '/home/jupyter/My Notebooks/Elephants vs Mammoths/data/images/elephants/00000031.jpg'\n",
      "cannot identify image file '/home/jupyter/My Notebooks/Elephants vs Mammoths/data/images/elephants/00000018.jpg'\n",
      "cannot identify image file '/home/jupyter/My Notebooks/Elephants vs Mammoths/data/images/elephants/00000087.jpg'\n",
      "mammoths\n"
     ]
    },
    {
     "data": {
      "text/html": [
       "\n",
       "    <div>\n",
       "        <style>\n",
       "        \t/* Turns off some styling */\n",
       "        \tprogress {\n",
       "\n",
       "            \t/* gets rid of default border in Firefox and Opera. */\n",
       "            \tborder: none;\n",
       "\n",
       "            \t/* Needs to be in here for Safari polyfill so background images work as expected. */\n",
       "            \tbackground-size: auto;\n",
       "            }\n",
       "\n",
       "            .progress-bar-interrupted, .progress-bar-interrupted::-webkit-progress-bar {\n",
       "                background: #F44336;\n",
       "            }\n",
       "        </style>\n",
       "      <progress value='97' class='' max='97', style='width:300px; height:20px; vertical-align: middle;'></progress>\n",
       "      100.00% [97/97 00:00<00:00]\n",
       "    </div>\n",
       "    "
      ],
      "text/plain": [
       "<IPython.core.display.HTML object>"
      ]
     },
     "metadata": {},
     "output_type": "display_data"
    },
    {
     "name": "stdout",
     "output_type": "stream",
     "text": [
      "cannot identify image file '/home/jupyter/My Notebooks/Elephants vs Mammoths/data/images/mammoths/00000000.jpg'\n",
      "cannot identify image file '/home/jupyter/My Notebooks/Elephants vs Mammoths/data/images/mammoths/00000007.jpg'\n",
      "cannot identify image file '/home/jupyter/My Notebooks/Elephants vs Mammoths/data/images/mammoths/00000098.jpg'\n",
      "cannot identify image file '/home/jupyter/My Notebooks/Elephants vs Mammoths/data/images/mammoths/00000026.jpg'\n",
      "cannot identify image file '/home/jupyter/My Notebooks/Elephants vs Mammoths/data/images/mammoths/00000076.jpg'\n"
     ]
    }
   ],
   "source": [
    "classes = ['elephants','mammoths']\n",
    "\n",
    "for c in classes:\n",
    "    print(c)\n",
    "    verify_images(pathI/c, delete=True, max_workers=8)"
   ]
  },
  {
   "cell_type": "markdown",
   "metadata": {
    "nbpresent": {
     "id": "e6bb080b-b603-4f76-98fa-10723e7edd15"
    }
   },
   "source": [
    "## Train model"
   ]
  },
  {
   "cell_type": "code",
   "execution_count": 9,
   "metadata": {
    "nbpresent": {
     "id": "a8fccbdb-1032-4ff6-9172-4e540c8991fc"
    },
    "scrolled": true
   },
   "outputs": [
    {
     "name": "stdout",
     "output_type": "stream",
     "text": [
      "Total time: 00:37\n",
      "epoch  train_loss  valid_loss  accuracy\n",
      "1      0.716067    0.524508    0.733333  (00:08)\n",
      "2      0.654223    0.411771    0.866667  (00:07)\n",
      "3      0.544205    0.398432    0.866667  (00:07)\n",
      "4      0.475635    0.384607    0.888889  (00:07)\n",
      "5      0.409512    0.381085    0.888889  (00:06)\n",
      "\n"
     ]
    }
   ],
   "source": [
    "np.random.seed(42)\n",
    "data = ImageDataBunch.from_folder(pathI, train=\".\", valid_pct=0.2,\n",
    "        ds_tfms=get_transforms(), size=100, num_workers=4).normalize(imagenet_stats)\n",
    "\n",
    "data.classes, data.c, len(data.train_ds), len(data.valid_ds)\n",
    "\n",
    "learn = create_cnn(data, models.resnet34, metrics=accuracy, model_dir=\"../model\")\n",
    "\n",
    "learn.fit_one_cycle(5)"
   ]
  },
  {
   "cell_type": "code",
   "execution_count": 10,
   "metadata": {
    "nbpresent": {
     "id": "b737c096-cc50-4d2f-874f-67af02bd1790"
    }
   },
   "outputs": [
    {
     "data": {
      "text/plain": [
       "PosixPath('data/images/../model/stage-1.pth')"
      ]
     },
     "execution_count": 10,
     "metadata": {},
     "output_type": "execute_result"
    }
   ],
   "source": [
    "learn.save('stage-1', return_path=True)"
   ]
  },
  {
   "cell_type": "code",
   "execution_count": 11,
   "metadata": {
    "nbpresent": {
     "id": "6806cdc5-1ed4-4d30-b022-a7b89add0e3f"
    }
   },
   "outputs": [],
   "source": [
    "learn.unfreeze()"
   ]
  },
  {
   "cell_type": "code",
   "execution_count": 7,
   "metadata": {
    "nbpresent": {
     "id": "94e19de7-59d2-49c8-8efe-dec42a58df5f"
    },
    "scrolled": true
   },
   "outputs": [
    {
     "name": "stdout",
     "output_type": "stream",
     "text": [
      "LR Finder complete, type {learner_name}.recorder.plot() to see the graph.\n"
     ]
    }
   ],
   "source": [
    "learn.lr_find()"
   ]
  },
  {
   "cell_type": "code",
   "execution_count": null,
   "metadata": {
    "nbpresent": {
     "id": "9de4317d-83f5-4757-9943-b58deb763d57"
    }
   },
   "outputs": [],
   "source": [
    "learn.recorder.plot()"
   ]
  },
  {
   "cell_type": "code",
   "execution_count": null,
   "metadata": {
    "nbpresent": {
     "id": "6f68aa53-7e70-4c79-a6f2-75ddf9c2f671"
    }
   },
   "outputs": [],
   "source": [
    "learn.fit_one_cycle(2, max_lr=slice(3e-6,3e-4))"
   ]
  },
  {
   "cell_type": "code",
   "execution_count": 21,
   "metadata": {
    "nbpresent": {
     "id": "63ced018-6f86-4ce0-9338-901cf5bd4d34"
    }
   },
   "outputs": [],
   "source": [
    "learn.save('stage-2')"
   ]
  },
  {
   "cell_type": "markdown",
   "metadata": {
    "nbpresent": {
     "id": "9724b952-1c43-4a31-9559-6324fb9725ac"
    }
   },
   "source": [
    "## Interpretation"
   ]
  },
  {
   "cell_type": "code",
   "execution_count": 22,
   "metadata": {
    "nbpresent": {
     "id": "1efe4ef1-6c43-45a4-b6a8-ea893ffcba4b"
    }
   },
   "outputs": [],
   "source": [
    "learn.load('stage-2')"
   ]
  },
  {
   "cell_type": "code",
   "execution_count": 23,
   "metadata": {
    "nbpresent": {
     "id": "06fcb5a4-278d-46fe-b658-37fd82df66e9"
    }
   },
   "outputs": [],
   "source": [
    "interp = ClassificationInterpretation.from_learner(learn)"
   ]
  },
  {
   "cell_type": "code",
   "execution_count": 24,
   "metadata": {
    "nbpresent": {
     "id": "8f6a73fa-934b-4f77-bbc1-af6447079430"
    }
   },
   "outputs": [
    {
     "data": {
      "image/png": "[encoded data removed]",
      "text/plain": [
       "<Figure size 432x288 with 1 Axes>"
      ]
     },
     "metadata": {
      "needs_background": "light"
     },
     "output_type": "display_data"
    }
   ],
   "source": [
    "interp.plot_confusion_matrix()"
   ]
  },
  {
   "cell_type": "markdown",
   "metadata": {
    "nbpresent": {
     "id": "b946ca68-6441-4fed-8b4a-980343f68303"
    }
   },
   "source": [
    "## Cleaning Up\n",
    "\n",
    "Some of our top losses aren't due to bad performance by our model. There are images in our data set that shouldn't be.\n",
    "\n",
    "Using the `FileDeleter` widget from `fastai.widgets` we can prune our top losses, removing photos that don't belong.\n",
    "\n",
    "First we need to get the file paths from our top_losses. Here's a handy function that pulls out all our top_losses:"
   ]
  },
  {
   "cell_type": "code",
   "execution_count": null,
   "metadata": {
    "nbpresent": {
     "id": "3e513e8a-64dd-48ab-acbc-659db7eeb08a"
    }
   },
   "outputs": [],
   "source": [
    "from fastai.widgets import *\n",
    "\n",
    "losses,idxs = interp.top_losses()\n",
    "top_loss_paths = data.valid_ds.x[idxs]"
   ]
  },
  {
   "cell_type": "markdown",
   "metadata": {
    "nbpresent": {
     "id": "689aa4ab-4c6d-4373-940c-a3fe096e58e7"
    }
   },
   "source": [
    "Now we can pass in these paths to our widget."
   ]
  },
  {
   "cell_type": "code",
   "execution_count": 27,
   "metadata": {
    "nbpresent": {
     "id": "3a5426e9-f785-495c-aaf6-0e3b5e35d40c"
    }
   },
   "outputs": [
    {
     "data": {
      "text/plain": [
       "'No images to show :)'"
      ]
     },
     "metadata": {},
     "output_type": "display_data"
    }
   ],
   "source": [
    "fd = FileDeleter(file_paths=top_loss_paths)"
   ]
  },
  {
   "cell_type": "markdown",
   "metadata": {
    "nbpresent": {
     "id": "8fd6e023-ee41-4dcc-a8cc-ba38e79c7542"
    }
   },
   "source": [
    "Flag photos for deletion by clicking 'Delete'. Then click 'Confirm' to delete flagged photos and keep the rest in that row. The `File_Deleter` will show you a new row of images until there are no more to show. In this case, the widget will show you images until there are none left from `top_losses`."
   ]
  },
  {
   "cell_type": "markdown",
   "metadata": {
    "nbpresent": {
     "id": "6d7a3fbc-1a87-4a24-a648-6675cfca8ac2"
    }
   },
   "source": [
    "## Putting your model in production"
   ]
  },
  {
   "cell_type": "code",
   "execution_count": 28,
   "metadata": {
    "nbpresent": {
     "id": "9e2a752e-cd60-4d41-8f94-e0bcb8449f86"
    }
   },
   "outputs": [
    {
     "data": {
      "text/plain": [
       "['elephants', 'mammoths']"
      ]
     },
     "execution_count": 28,
     "metadata": {},
     "output_type": "execute_result"
    }
   ],
   "source": [
    "data.classes"
   ]
  },
  {
   "cell_type": "markdown",
   "metadata": {
    "nbpresent": {
     "id": "6bde478f-1d2b-462b-973b-bc1e05857edb"
    }
   },
   "source": [
    "You probably want to use CPU for inference, except at massive scale (and you almost certainly don't need to train in real-time). If you don't have a GPU that happens automatically. You can test your model on CPU like so:"
   ]
  },
  {
   "cell_type": "code",
   "execution_count": 17,
   "metadata": {
    "nbpresent": {
     "id": "96999dd4-9fce-4732-abbb-8ede735427de"
    }
   },
   "outputs": [],
   "source": [
    "# fastai.defaults.device = torch.device('cpu')"
   ]
  },
  {
   "cell_type": "code",
   "execution_count": 18,
   "metadata": {
    "nbpresent": {
     "id": "7b9ff2b1-83af-4246-9822-41f7ab2f8ad6"
    }
   },
   "outputs": [
    {
     "ename": "TypeError",
     "evalue": "unsupported operand type(s) for /: 'str' and 'str'",
     "output_type": "error",
     "traceback": [
      "\u001b[0;31m---------------------------------------------------------------------------\u001b[0m",
      "\u001b[0;31mTypeError\u001b[0m                                 Traceback (most recent call last)",
      "\u001b[0;32m<ipython-input-18-8e745afa8f4f>\u001b[0m in \u001b[0;36m<module>\u001b[0;34m\u001b[0m\n\u001b[0;32m----> 1\u001b[0;31m \u001b[0mimg\u001b[0m \u001b[0;34m=\u001b[0m \u001b[0mopen_image\u001b[0m\u001b[0;34m(\u001b[0m\u001b[0mpath\u001b[0m\u001b[0;34m/\u001b[0m\u001b[0;34m'mammoth'\u001b[0m\u001b[0;34m/\u001b[0m\u001b[0;34m'00000010.jpg'\u001b[0m\u001b[0;34m)\u001b[0m\u001b[0;34m\u001b[0m\u001b[0m\n\u001b[0m\u001b[1;32m      2\u001b[0m \u001b[0mimg\u001b[0m\u001b[0;34m\u001b[0m\u001b[0m\n",
      "\u001b[0;31mTypeError\u001b[0m: unsupported operand type(s) for /: 'str' and 'str'"
     ]
    }
   ],
   "source": [
    "img = open_image(path/'mammoth'/'00000010.jpg')\n",
    "img"
   ]
  },
  {
   "cell_type": "code",
   "execution_count": null,
   "metadata": {
    "nbpresent": {
     "id": "c99fa2b0-c7d3-4015-83ea-0ed548e803f5"
    }
   },
   "outputs": [],
   "source": [
    "classes = ['elephant','mammoth']\n",
    "data2 = ImageDataBunch.single_from_classes(path, classes, tfms=get_transforms(), size=224).normalize(imagenet_stats)\n",
    "learn = create_cnn(data2, models.resnet34)\n",
    "learn.load('stage-2')"
   ]
  },
  {
   "cell_type": "code",
   "execution_count": null,
   "metadata": {
    "nbpresent": {
     "id": "b8ea15aa-780f-40c6-a8e7-7d81441819b4"
    }
   },
   "outputs": [],
   "source": [
    "pred_class,pred_idx,outputs = learn.predict(img)\n",
    "pred_class"
   ]
  },
  {
   "cell_type": "markdown",
   "metadata": {
    "nbpresent": {
     "id": "c20bfb26-1cf1-4a99-927e-663de25dff93"
    }
   },
   "source": [
    "So you might create a route something like this ([thanks](https://github.com/simonw/cougar-or-not) to Simon Willison for the structure of this code):\n",
    "\n",
    "```python\n",
    "@app.route(\"/classify-url\", methods=[\"GET\"])\n",
    "async def classify_url(request):\n",
    "    bytes = await get_bytes(request.query_params[\"url\"])\n",
    "    img = open_image(BytesIO(bytes))\n",
    "    _,_,losses = learner.predict(img)\n",
    "    return JSONResponse({\n",
    "        \"predictions\": sorted(\n",
    "            zip(cat_learner.data.classes, map(float, losses)),\n",
    "            key=lambda p: p[1],\n",
    "            reverse=True\n",
    "        )\n",
    "    })\n",
    "```\n",
    "\n",
    "(This example is for the [Starlette](https://www.starlette.io/) web app toolkit.)"
   ]
  },
  {
   "cell_type": "markdown",
   "metadata": {
    "nbpresent": {
     "id": "f1d90304-ab76-448e-8e23-7b7a86ba7de5"
    }
   },
   "source": [
    "## Things that can go wrong"
   ]
  },
  {
   "cell_type": "markdown",
   "metadata": {
    "nbpresent": {
     "id": "bcc015d1-e98b-47d1-b4e3-068291bfd7f7"
    }
   },
   "source": [
    "- Most of the time things will train fine with the defaults\n",
    "- There's not much you really need to tune (despite what you've heard!)\n",
    "- Most likely are\n",
    "  - Learning rate\n",
    "  - Number of epochs"
   ]
  },
  {
   "cell_type": "markdown",
   "metadata": {
    "nbpresent": {
     "id": "84cf50d3-7e54-4a96-a417-e62839b3a123"
    }
   },
   "source": [
    "### Learning rate (LR) too high"
   ]
  },
  {
   "cell_type": "code",
   "execution_count": null,
   "metadata": {
    "nbpresent": {
     "id": "29bf99a1-ba20-4185-a5e5-44fcd2820e6a"
    }
   },
   "outputs": [],
   "source": [
    "learn = create_cnn(data, models.resnet34, metrics=error_rate)"
   ]
  },
  {
   "cell_type": "code",
   "execution_count": null,
   "metadata": {
    "nbpresent": {
     "id": "9ed67e30-a711-433c-af49-ef9cde5cef2d"
    }
   },
   "outputs": [],
   "source": [
    "learn.fit_one_cycle(1, max_lr=0.5)"
   ]
  },
  {
   "cell_type": "markdown",
   "metadata": {
    "nbpresent": {
     "id": "256c4f54-beb7-44a6-9774-c540f407868a"
    }
   },
   "source": [
    "### Learning rate (LR) too low"
   ]
  },
  {
   "cell_type": "code",
   "execution_count": null,
   "metadata": {
    "nbpresent": {
     "id": "88a080e6-c3bd-41e5-b29f-b4c328b7bb36"
    }
   },
   "outputs": [],
   "source": [
    "learn = create_cnn(data, models.resnet34, metrics=error_rate)"
   ]
  },
  {
   "cell_type": "markdown",
   "metadata": {
    "nbpresent": {
     "id": "1c1140c4-4373-4b8a-98a1-63f97e3191e4"
    }
   },
   "source": [
    "Previously we had this result:\n",
    "\n",
    "```\n",
    "Total time: 00:57\n",
    "epoch  train_loss  valid_loss  error_rate\n",
    "1      1.030236    0.179226    0.028369    (00:14)\n",
    "2      0.561508    0.055464    0.014184    (00:13)\n",
    "3      0.396103    0.053801    0.014184    (00:13)\n",
    "4      0.316883    0.050197    0.021277    (00:15)\n",
    "```"
   ]
  },
  {
   "cell_type": "code",
   "execution_count": null,
   "metadata": {
    "nbpresent": {
     "id": "f804be85-9eeb-4d8b-95c3-f741d402788b"
    }
   },
   "outputs": [],
   "source": [
    "learn.fit_one_cycle(5, max_lr=1e-5)"
   ]
  },
  {
   "cell_type": "code",
   "execution_count": null,
   "metadata": {
    "nbpresent": {
     "id": "95f0a2f7-43e9-4ef0-a3ce-68e9d961aa30"
    }
   },
   "outputs": [],
   "source": [
    "learn.recorder.plot_losses()"
   ]
  },
  {
   "cell_type": "markdown",
   "metadata": {
    "nbpresent": {
     "id": "3def30ff-c1b4-41a2-aa22-f2c12c03891b"
    }
   },
   "source": [
    "As well as taking a really long time, it's getting too many looks at each image, so may overfit."
   ]
  },
  {
   "cell_type": "markdown",
   "metadata": {
    "nbpresent": {
     "id": "5b78712b-7a28-4725-8acb-e8c93f2721c5"
    }
   },
   "source": [
    "### Too few epochs"
   ]
  },
  {
   "cell_type": "code",
   "execution_count": null,
   "metadata": {
    "nbpresent": {
     "id": "2c124806-e806-4f53-8bc1-141d74a89c33"
    }
   },
   "outputs": [],
   "source": [
    "learn = create_cnn(data, models.resnet34, metrics=error_rate)"
   ]
  },
  {
   "cell_type": "code",
   "execution_count": null,
   "metadata": {
    "nbpresent": {
     "id": "4ccf31a6-1af9-4ff3-9f05-2a7a4b2690d6"
    }
   },
   "outputs": [],
   "source": [
    "learn.fit_one_cycle(1)"
   ]
  },
  {
   "cell_type": "markdown",
   "metadata": {
    "nbpresent": {
     "id": "109dc656-1822-4cf5-a978-812fcecf41c1"
    }
   },
   "source": [
    "### Too many epochs"
   ]
  },
  {
   "cell_type": "code",
   "execution_count": null,
   "metadata": {
    "nbpresent": {
     "id": "329ca567-1610-453b-bdf5-452bc14e48fb"
    }
   },
   "outputs": [],
   "source": [
    "np.random.seed(42)\n",
    "data = ImageDataBunch.from_folder(path, train=\".\", valid_pct=0.9, bs=32, \n",
    "        ds_tfms=get_transforms(do_flip=False, max_rotate=0, max_zoom=1, max_lighting=0, max_warp=0\n",
    "                              ),size=224, num_workers=4).normalize(imagenet_stats)"
   ]
  },
  {
   "cell_type": "code",
   "execution_count": null,
   "metadata": {
    "nbpresent": {
     "id": "133d3feb-37e8-4239-bad5-fb240c8e7aa4"
    }
   },
   "outputs": [],
   "source": [
    "learn = create_cnn(data, models.resnet50, metrics=error_rate, ps=0, wd=0)\n",
    "learn.unfreeze()"
   ]
  },
  {
   "cell_type": "code",
   "execution_count": null,
   "metadata": {
    "nbpresent": {
     "id": "7457b3dc-c5b7-47e2-bd45-259c631339ad"
    }
   },
   "outputs": [],
   "source": [
    "learn.fit_one_cycle(40, slice(1e-6,1e-4))"
   ]
  },
  {
   "cell_type": "code",
   "execution_count": null,
   "metadata": {
    "nbpresent": {
     "id": "70d7a4e3-bb79-4af0-ae3c-783eee0957d7"
    }
   },
   "outputs": [],
   "source": []
  }
 ],
 "metadata": {
  "kernelspec": {
   "display_name": "Python 3",
   "language": "python",
   "name": "python3"
  },
  "language_info": {
   "codemirror_mode": {
    "name": "ipython",
    "version": 3
   },
   "file_extension": ".py",
   "mimetype": "text/x-python",
   "name": "python",
   "nbconvert_exporter": "python",
   "pygments_lexer": "ipython3",
   "version": "3.6.5"
  }
 },
 "nbformat": 4,
 "nbformat_minor": 2
}
